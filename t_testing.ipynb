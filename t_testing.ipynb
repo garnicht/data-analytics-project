{
 "cells": [
  {
   "cell_type": "markdown",
   "metadata": {},
   "source": [
    "### Imports"
   ]
  },
  {
   "cell_type": "code",
   "execution_count": null,
   "metadata": {},
   "outputs": [],
   "source": [
    "from sql_functions import cohen_d\n",
    "from scipy.stats import ttest_ind\n",
    "# from dotenv import load_dotenv if there is an Error with get_dataframe() remove this '#' and redo\n",
    "from sql_functions import get_dataframe\n",
    "# load_dotenv() if there is an Error with get_dataframe() remove this '#' and redo"
   ]
  },
  {
   "cell_type": "markdown",
   "metadata": {},
   "source": [
    "### Excluding data"
   ]
  },
  {
   "cell_type": "code",
   "execution_count": null,
   "metadata": {},
   "outputs": [],
   "source": [
    "# excluding test IDs, mails, free test-webinars and 'Fragestunden'(webrtc)\n",
    "\n",
    "exclude_ids = [22223392, 21417972, 22219300, 22223207, 22223274, 19893081, 19893082,\n",
    "    19347161, 19347162, 19438354, 19438355, 19438356, 19456638, 19457244,\n",
    "    19457296, 19459001, 19484563, 19604300, 19604327, 19736279, 19736440,\n",
    "    19736638, 19893072, 19893073, 19893074, 19893075, 19893076, 19893077,\n",
    "    19893078, 19893079, 19893080, 18941278, 18974077, 19102436, 19102437,\n",
    "    19102438, 19102439, 19118590, 19118591, 19118592, 19118593, 19132288,\n",
    "    19132289, 19132291, 19132292, 19132849, 19132850, 19132851, 19132852,\n",
    "    19134481, 19134482, 19245405, 19245406, 19245407, 19245408]\n",
    "\n",
    "exclude_mails = ['a4d49ea13f374cd5325f430c003e755d8968be7cf8b195c597c80bf2a4529962', \n",
    "                 'd61eb5bae199f5d85f26938c4fe7cf8a6a30d0d48d35b166e621fa1abf7c2723',\n",
    "                 '9f60a7ecb9b083ef5101da8f7bde1c12a5aa6ebc7042fd2071bfc067802485d3',\n",
    "                 '80264d7b01caadb6df3d33ad9c7830967579f292693bbcf784d2a164af2dd316',\n",
    "                 '0191ae5e56dc29349990fe692882e6254e7e632abeef55aece1e933c80e01086',\n",
    "                 '9f3218274b71ec994ccf100537f7f7614e1e3c702c0c061d660d4ed9d8a7db6a']\n",
    "\n",
    "exclude_webinars = ['Crashkurs Statistik I', 'Crashkurs Statistik II', 'Crashkurs Statistik I Kopie', 'Crashkurs Statistik II Kopie', \n",
    "                    'Testinteraktionen', 'Test on demand', 'Minutentest', 'Test2 On Demand', 'Wiederholung Köln Teil 3', 'Test demand', \n",
    "                    'Test Mail 2', 'Test für Mail', 'Fragestunde Statistik 1 Bielefeld', 'Fragestunde Düsseldorf QMI 1', \n",
    "                    'Test On Demand', 'Test 3', 'Test 1', 'Test 2 ', 'Test 2', 'Testwebinar Interaktion', 'Crashkurs Statistik 1 Duisburg-Essen 28. - 29. Januar',\n",
    "                    'Crashkurs Statistik 1 Duisburg-Essen 04. - 05. Februar']\n",
    "\n",
    "exclude_episodes = ['Crashkurs QMI Düsseldorf 14. - 15. Januar Teil 2.2', 'Crashkurs QMI Düsseldorf 19. - 20. Januar Teil 2.2', \n",
    "                    'Crashkurs QMI Düsseldorf 21. - 22. Januar Teil 2.2', 'Crashkurs Statistik 1 Bielefeld 14. - 15. Januar Teil 2.2', \n",
    "                    'Crashkurs Statistik 1 Bielefeld 19. - 20. Januar Teil 2.2', 'Crashkurs Statistik 1 Bielefeld 21. - 22. Januar Teil 2.2']\n",
    "\n",
    "webrtc = 'webrtc'"
   ]
  },
  {
   "cell_type": "code",
   "execution_count": null,
   "metadata": {},
   "outputs": [],
   "source": [
    "# Define and get data to clean up and test\n",
    "schema_name = 'public'\n",
    "table_name = 'statistics_mastertable_3'\n",
    "\n",
    "data_to_clean = get_dataframe(f\"SELECT * FROM {schema_name}.{table_name};\") \n",
    "data_to_clean.info()"
   ]
  },
  {
   "cell_type": "code",
   "execution_count": null,
   "metadata": {},
   "outputs": [],
   "source": [
    "# Removing IDs that are in exclude_ids list\n",
    "clean_data = data_to_clean[~data_to_clean['id'].isin(exclude_ids)]\n",
    "clean_data.shape"
   ]
  },
  {
   "cell_type": "code",
   "execution_count": null,
   "metadata": {},
   "outputs": [],
   "source": [
    "# Removing users via encrypted email addresses from exclude_mails list\n",
    "clean_data = clean_data[~clean_data['email_encrypted'].isin(exclude_mails)]\n",
    "clean_data.shape"
   ]
  },
  {
   "cell_type": "code",
   "execution_count": null,
   "metadata": {},
   "outputs": [],
   "source": [
    "# Removing webinars that were handed out for free (exclude_webinars list)\n",
    "clean_data = clean_data[~clean_data['webinar_title'].isin(exclude_webinars)]\n",
    "clean_data.shape"
   ]
  },
  {
   "cell_type": "code",
   "execution_count": null,
   "metadata": {},
   "outputs": [],
   "source": [
    "clean_data = clean_data[~clean_data['episode_title'].isin(exclude_episodes)]\n",
    "clean_data.shape"
   ]
  },
  {
   "cell_type": "code",
   "execution_count": null,
   "metadata": {},
   "outputs": [],
   "source": [
    " #Excluding webinars that were \"Fragestunden\" (webrtc as episode_type)\n",
    "clean_data = clean_data.query(\"episode_type != 'webrtc'\")\n",
    "clean_data.shape"
   ]
  },
  {
   "cell_type": "markdown",
   "metadata": {},
   "source": [
    "### Prep cleaned data for t-testing"
   ]
  },
  {
   "cell_type": "code",
   "execution_count": null,
   "metadata": {},
   "outputs": [],
   "source": [
    "# Changing broadcast_duration and watch_duration to float64 for t-testing\n",
    "clean_data = clean_data.astype({\"broadcast_duration\": 'float64'}) \n",
    "clean_data = clean_data.astype({\"watch_duration\": 'float64'}) "
   ]
  },
  {
   "cell_type": "markdown",
   "metadata": {},
   "source": [
    "#### Viewing device"
   ]
  },
  {
   "cell_type": "code",
   "execution_count": null,
   "metadata": {},
   "outputs": [],
   "source": [
    "# Creating 2 groups for desktop and mobile\n",
    "group_desktop = clean_data[clean_data['viewing_device'] == 'Desktop']\n",
    "group_mobile = clean_data[clean_data['viewing_device'] == 'Mobile']\n",
    "\n",
    "shape_desktop = group_desktop.shape\n",
    "shape_mobile = group_mobile.shape"
   ]
  },
  {
   "cell_type": "code",
   "execution_count": null,
   "metadata": {},
   "outputs": [],
   "source": [
    "# T-Test for watch duration between desktop and mobile users\n",
    "print(ttest_ind(group_desktop['watch_duration'], group_mobile['watch_duration'], nan_policy='omit'))\n",
    "print(\"Desktop:\", shape_desktop, \"(rows/col)\")\n",
    "print(\"Mobile:\", shape_mobile, \"(rows/col)\")\n",
    "\n",
    "# Calculate effect size \n",
    "print(\"cohen's d:\", cohen_d(group_desktop[\"watch_duration\"].dropna(),group_mobile[\"watch_duration\"].dropna()))"
   ]
  },
  {
   "cell_type": "markdown",
   "metadata": {},
   "source": [
    "#### Videocategory"
   ]
  },
  {
   "cell_type": "code",
   "execution_count": null,
   "metadata": {},
   "outputs": [],
   "source": [
    "# Creating 2 groups for each video category\n",
    "group_ondemand = clean_data[clean_data['webinar_ondemand'] == True]\n",
    "group_video = clean_data[clean_data['webinar_ondemand'] == False]\n",
    "\n",
    "shape_ondemand = group_ondemand.shape\n",
    "shape_video = group_video.shape"
   ]
  },
  {
   "cell_type": "code",
   "execution_count": null,
   "metadata": {},
   "outputs": [],
   "source": [
    "# T-Test for on-demand and video (live) watch duration\n",
    "\n",
    "print(ttest_ind(group_ondemand['watch_duration'], group_video['watch_duration'], nan_policy='omit'))\n",
    "print(\"Ondemand:\", shape_ondemand, \"(rows/col)\")\n",
    "print(\"Video:\", shape_video, \"(rows/col)\")\n",
    "\n",
    "# Calculate effect size\n",
    "print(\"cohen's d:\", cohen_d(group_ondemand[\"watch_duration\"].dropna(),group_video[\"watch_duration\"].dropna()))"
   ]
  },
  {
   "cell_type": "code",
   "execution_count": null,
   "metadata": {},
   "outputs": [],
   "source": [
    "# T-Test for on-demand and video (live) broadcast duration\n",
    "print(ttest_ind(group_ondemand['broadcast_duration'], group_video['broadcast_duration'], nan_policy='omit'))\n",
    "print(\"Ondemand:\", shape_ondemand, \"(rows/col)\")\n",
    "print(\"Video:\", shape_video, \"(rows/col)\")\n",
    "\n",
    "# Calculate effect size\n",
    "print(\"cohen's d:\", cohen_d(group_ondemand[\"broadcast_duration\"].dropna(),group_video[\"broadcast_duration\"].dropna()))"
   ]
  },
  {
   "cell_type": "code",
   "execution_count": null,
   "metadata": {},
   "outputs": [],
   "source": [
    "# T-Test for on-demand and video (live) duration-watched percentage\n",
    "print(ttest_ind(group_ondemand['watch_percentage'], group_video['watch_percentage'], nan_policy='omit'))\n",
    "print(\"Ondemand:\", shape_ondemand, \"(rows/col)\")\n",
    "print(\"Video:\", shape_video, \"(rows/col)\")\n",
    "\n",
    "# Calculate effect size\n",
    "print(\"cohen's d:\", cohen_d(group_ondemand[\"watch_percentage\"].dropna(),group_video[\"watch_percentage\"].dropna()))"
   ]
  },
  {
   "cell_type": "code",
   "execution_count": null,
   "metadata": {},
   "outputs": [],
   "source": [
    "# describe the used groups\n",
    "group_ondemand[['broadcast_duration','watch_duration','watch_percentage']].describe()"
   ]
  },
  {
   "cell_type": "code",
   "execution_count": null,
   "metadata": {},
   "outputs": [],
   "source": [
    "# describe the used groups\n",
    "group_video[['broadcast_duration','watch_duration','watch_percentage']].describe()"
   ]
  }
 ],
 "metadata": {
  "kernelspec": {
   "display_name": "capstone_base",
   "language": "python",
   "name": "python3"
  },
  "language_info": {
   "codemirror_mode": {
    "name": "ipython",
    "version": 3
   },
   "file_extension": ".py",
   "mimetype": "text/x-python",
   "name": "python",
   "nbconvert_exporter": "python",
   "pygments_lexer": "ipython3",
   "version": "3.9.16"
  },
  "orig_nbformat": 4
 },
 "nbformat": 4,
 "nbformat_minor": 2
}
